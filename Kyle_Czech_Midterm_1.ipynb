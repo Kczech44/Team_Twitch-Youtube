{
 "cells": [
  {
   "cell_type": "code",
   "execution_count": 38,
   "metadata": {},
   "outputs": [],
   "source": [
    "#We are analyzing gaming channels, basically 'Hello World'\n",
    "\n",
    "import os\n",
    "import google.oauth2.credentials\n",
    "\n",
    "from googleapiclient.discovery import build\n",
    "from googleapiclient.errors import HttpError\n",
    "from google_auth_oauthlib.flow import InstalledAppFlow"
   ]
  },
  {
   "cell_type": "code",
   "execution_count": 39,
   "metadata": {},
   "outputs": [],
   "source": [
    "# The CLIENT_SECRETS_FILE variable specifies the name of a file that contains\n",
    "# the OAuth 2.0 information for this application, including its client_id and\n",
    "#client_secret.\n",
    "CLIENT_SECRETS_FILE = \"client_secret.json\"\n",
    "\n",
    "# This OAuth 2.0 access scope allows for full read/write access to the\n",
    "# authenticated user's account and requires requests to use an SSL connection.\n",
    "SCOPES = ['https://www.googleapis.com/auth/youtube.force-ssl']\n",
    "API_SERVICE_NAME = 'youtube'\n",
    "API_VERSION = 'v3'"
   ]
  },
  {
   "cell_type": "code",
   "execution_count": 40,
   "metadata": {},
   "outputs": [],
   "source": [
    "def get_authenticated_service():\n",
    "  flow = InstalledAppFlow.from_client_secrets_file(CLIENT_SECRETS_FILE, SCOPES)\n",
    "  credentials = flow.run_console()\n",
    "  return build(API_SERVICE_NAME, API_VERSION, credentials = credentials)\n",
    "\n",
    "def channels_list_by_username(service, **kwargs):\n",
    "  results = service.channels().list(\n",
    "    **kwargs\n",
    "  ).execute()\n",
    "  \n",
    "  print('This channel\\'s ID is %s. Its title is %s, and it has %s views.' %\n",
    "       (results['items'][0]['id'],\n",
    "        results['items'][0]['snippet']['title'],\n",
    "        results['items'][0]['statistics']['viewCount']))\n"
   ]
  },
  {
   "cell_type": "code",
   "execution_count": 41,
   "metadata": {},
   "outputs": [
    {
     "name": "stdout",
     "output_type": "stream",
     "text": [
      "Please visit this URL to authorize this application: https://accounts.google.com/o/oauth2/auth?response_type=code&client_id=962228416679-a2a9bv9bc318gjogfv2e89advae97c46.apps.googleusercontent.com&redirect_uri=urn%3Aietf%3Awg%3Aoauth%3A2.0%3Aoob&scope=https%3A%2F%2Fwww.googleapis.com%2Fauth%2Fyoutube.force-ssl&state=ceGLYcpjVhdWHUISCcQR3tJxRq8pZa&prompt=consent&access_type=offline\n",
      "Enter the authorization code: 4/NwERq3hACtgYS1aUP6C4kjSPAXR1r0URhAXCQ64GEZYTy_PGA6falOw\n",
      "This channel's ID is UC_x5XG1OV2P6uZZ5FSM9Ttw. Its title is Google Developers, and it has 154789942 views.\n"
     ]
    }
   ],
   "source": [
    "##TESTS to see if we can access YouTube Data API Calls\n",
    "youtube = get_authenticated_service()\n",
    "\n",
    "if __name__ == '__main__':\n",
    "  # When running locally, disable OAuthlib's HTTPs verification. When\n",
    "  # running in production *do not* leave this option enabled.\n",
    "  os.environ['OAUTHLIB_INSECURE_TRANSPORT'] = '1'\n",
    "  channels_list_by_username(youtube,\n",
    "      part='snippet,contentDetails,statistics',\n",
    "      forUsername='GoogleDevelopers')"
   ]
  },
  {
   "cell_type": "code",
   "execution_count": 42,
   "metadata": {},
   "outputs": [],
   "source": [
    "#!/usr/bin/python\n",
    "\n",
    "# Usage example:\n",
    "# python comments.py --videoid='<video_id>' --text='<text>'\n",
    "\n",
    "import httplib2\n",
    "import os\n",
    "import sys\n",
    "import json\n",
    "\n",
    "from apiclient.discovery import build_from_document\n",
    "from apiclient.errors import HttpError\n",
    "from oauth2client.client import flow_from_clientsecrets\n",
    "from oauth2client.file import Storage\n",
    "from oauth2client.tools import argparser, run_flow\n",
    "\n",
    "\n",
    "# The CLIENT_SECRETS_FILE variable specifies the name of a file that contains\n",
    "\n",
    "# the OAuth 2.0 information for this application, including its client_id and\n",
    "# client_secret. You can acquire an OAuth 2.0 client ID and client secret from\n",
    "# the {{ Google Cloud Console }} at\n",
    "# {{ https://cloud.google.com/console }}.\n",
    "# Please ensure that you have enabled the YouTube Data API for your project.\n",
    "# For more information about using OAuth2 to access the YouTube Data API, see:\n",
    "#   https://developers.google.com/youtube/v3/guides/authentication\n",
    "# For more information about the client_secrets.json file format, see:\n",
    "#   https://developers.google.com/api-client-library/python/guide/aaa_client_secrets\n",
    "CLIENT_SECRETS_FILE = \"client_secret.json\"\n",
    "\n",
    "# This OAuth 2.0 access scope allows for full read/write access to the\n",
    "# authenticated user's account and requires requests to use an SSL connection.\n",
    "YOUTUBE_READ_WRITE_SSL_SCOPE = \"https://www.googleapis.com/auth/youtube.force-ssl\"\n",
    "YOUTUBE_API_SERVICE_NAME = \"youtube\"\n",
    "YOUTUBE_API_VERSION = \"v3\""
   ]
  },
  {
   "cell_type": "code",
   "execution_count": 43,
   "metadata": {},
   "outputs": [],
   "source": [
    "# Call the API's commentThreads.list method to list the existing comment threads.\n",
    "def get_comment_threads(youtube, video_id):\n",
    "  results = youtube.commentThreads().list(\n",
    "    part=\"snippet\",\n",
    "    videoId=video_id,\n",
    "    textFormat=\"plainText\"\n",
    "  ).execute()\n",
    "\n",
    "  for item in results[\"items\"]:\n",
    "    comment = item[\"snippet\"][\"topLevelComment\"]\n",
    "    author = comment[\"snippet\"][\"authorDisplayName\"]\n",
    "    text = comment[\"snippet\"][\"textDisplay\"]\n",
    "    print (\"Comment by %s: %s\" % (author, text))\n",
    "\n",
    "  return results[\"items\"]\n",
    "\n",
    "\n",
    "# Call the API's comments.list method to list the existing comment replies.\n",
    "def get_comments(youtube, parent_id):\n",
    "  results = youtube.comments().list(\n",
    "    #Change to 'full sample?'\n",
    "    part=\"snippet\",\n",
    "    parentId=parent_id,\n",
    "    textFormat=\"plainText\"\n",
    "  ).execute()\n",
    "\n",
    "  for item in results[\"items\"]:\n",
    "    author = item[\"snippet\"][\"authorDisplayName\"]\n",
    "    text = item[\"snippet\"][\"textDisplay\"]\n",
    "    print (\"Comment by %s: %s\" % (author, text))\n",
    "\n",
    "  return results[\"items\"]\n"
   ]
  },
  {
   "cell_type": "code",
   "execution_count": 7,
   "metadata": {},
   "outputs": [
    {
     "name": "stdout",
     "output_type": "stream",
     "text": [
      "Comment by red cat: wow rare video with different screen language and people commenting with English.\n",
      "Comment by Haerul Muttaqin: thanks Google 😘\n",
      "Comment by INTOR Info dan Tutorial: Ok google\n",
      "Comment by Boby Kurniawan Nugraha: I wish i can learn at google too\n",
      "Comment by Matiullah Karimi: We, Afghans hope to have such a program in Afghanistan too.\n",
      "Comment by Glamvian Hermawan: Tnankyou google\n",
      "Comment by Auzi Asfarian: Glad to be a part of this program!\n",
      "Comment by download free apps and games mod: Developer\n",
      "Comment by Kavin Raju S: That's Great to enthusiastic developers.\n",
      "Comment by Aovin Mahmud: Love for indonesian developers from our *BANGLADESH*\n",
      "Comment by muzzamil ahmed: What needs is real passion , she can't hear but she can achieve❤\n",
      "Comment by Hari Anugrah: and here I am wondering\n",
      "Why didn't I be there?\n",
      "Comment by D'PONSEL: Good job 🇮🇩\n",
      "Comment by DIRK BIROT: Can you recommend a good smart phone android ide\n",
      "Comment by Giselle Alessandra Velazquez: This is great! Regardless the fact that programs like this one are one of many strategies for Market Expansion and Business Development of Google Products. At least, the company is investing in providing first-class training material for the betterment of Indonesia. Empowering people with knowledge that they can use to purse their dreams. Thank you for sharing\n",
      "Comment by Guntur Thunder: <3\n",
      "Comment by Corazine Dorado: Ok Google 👍🙂\n"
     ]
    }
   ],
   "source": [
    "##This returns the Comments for a single Youtube Video\n",
    "\n",
    "if __name__ == \"__main__\":\n",
    "  #Change Video ID : \"PDqGZ89-O4I\"\n",
    "  video_comment_threads = get_comment_threads(youtube, \"PDqGZ89-O4I\")\n",
    "  parent_id = video_comment_threads[0][\"id\"]\n",
    "  video_comments = get_comments(youtube, parent_id)\n",
    "    "
   ]
  },
  {
   "cell_type": "code",
   "execution_count": 44,
   "metadata": {},
   "outputs": [],
   "source": [
    "# Call the API's commentThreads.list method to list the existing comments.\n",
    "def get_comments(youtube, video_id, channel_id):\n",
    "  #Name of the file to Open and begin writing\n",
    "      results = youtube.commentThreads().list(\n",
    "        part=\"snippet\",\n",
    "        videoId=video_id,\n",
    "        channelId=channel_id,\n",
    "        maxResults = 100,\n",
    "        textFormat=\"plainText\"\n",
    "      ).execute()\n",
    "      #Have to use this format, since json.load() function only allows the load of one json object, \n",
    "      #since there are many that are created during this process, we essentially have \n",
    "      #to trick the method with the [', ' ... ] format, giving the impression that there is only one.  \n",
    "        \n",
    "      #Would give a json decoding error, TOO MUCH DATA\n",
    "      return results\n",
    "\n",
    "# Call the API's commentThreads.list method to list the existing comments.\n",
    "def get_next_comments(youtube, video_id, channel_id, nextPage):\n",
    "  #Name of the file to Open and begin writing\n",
    "      results = youtube.commentThreads().list(\n",
    "        part=\"snippet\",\n",
    "        videoId=video_id,\n",
    "        channelId=channel_id,\n",
    "        maxResults = 100,\n",
    "        pageToken= nextPage,\n",
    "        textFormat=\"plainText\"\n",
    "      ).execute()\n",
    "      #Have to use this format, since json.load() function only allows the load of one json object, \n",
    "      #since there are many that are created during this process, we essentially have \n",
    "      #to trick the method with the [', ' ... ] format, giving the impression that there is only one.  \n",
    "        \n",
    "      #Would give a json decoding error, TOO MUCH DATA\n",
    "      return results\n"
   ]
  },
  {
   "cell_type": "code",
   "execution_count": 45,
   "metadata": {},
   "outputs": [],
   "source": [
    "#Loads comments from the json file\n",
    "import json\n",
    "def load_comments(match, f, point):\n",
    "    for item in match[\"items\"]:\n",
    "        comment = item[\"snippet\"][\"topLevelComment\"]\n",
    "        author = comment[\"snippet\"][\"authorDisplayName\"]\n",
    "        text = comment[\"snippet\"][\"textDisplay\"]\n",
    "        if (point != 0):\n",
    "            f.write(', ' + json.dumps(item))\n",
    "        else:\n",
    "            f.write(json.dumps(item))\n",
    "            point = point + 1"
   ]
  },
  {
   "cell_type": "code",
   "execution_count": 70,
   "metadata": {
    "scrolled": true
   },
   "outputs": [
    {
     "name": "stdout",
     "output_type": "stream",
     "text": [
      "249\n"
     ]
    }
   ],
   "source": [
    "import json\n",
    "##Prints the comments from all 16 Channels into separate json log files\n",
    "if __name__ == \"__main__\":\n",
    "    \n",
    "  #BATTLE ROYALE\n",
    "  #Fortnite = '2gUtfBmw86Y' ############\n",
    "  #ApexLegends = 'G9xpYNGRxbE'  ############\n",
    "  #Blackout = 'TktjCqG4p7Y' ###########\n",
    "  #Pupg = '4rG9noTfb4A' ##############\n",
    "\n",
    "  #SPORTS\n",
    "  #Rocket League = 'weV-WToHdhY' ###############\n",
    "  #FIFA 15 = 'TnTYVT6lwBc' ##############\n",
    "  #Madden 19 = '0VbE2yafP5I' #############\n",
    "  #2k16 = 'ZKcHuHmfMeE' ###########\n",
    "    \n",
    "  #FPS\n",
    "  #titanfall = 'z5sqPxbLmIU' ############\n",
    "  #COD = '6kqe2ICmTxc' ##############\n",
    "  #BATTLEFIELD = 'fb1MR85XFOc' ############\n",
    "  #Overwatch = 'FqnKB22pOC0' #############\n",
    "\n",
    "  #SINGLE PLAYER\n",
    "  #Skyrim = 'PjqsYzBrP-M' ###########\n",
    "  #Fallout = 'M9FGaan35s0' ############\n",
    "  #GTA 5 = 'VjZ5tgjPVfU' ###########\n",
    "  #WitchHunter = 'XHrskkHf958' #########\n",
    "    \n",
    "\n",
    "  channels = ['-pUhraVG7Ow']\n",
    "  json_logs = ['assassins4Comments.json']\n",
    "  count = 0\n",
    "  fileNumber = 0\n",
    "  for channel in channels: \n",
    "     point = 0\n",
    "     fname = json_logs[fileNumber]\n",
    "     with open(fname, 'w', encoding=\"utf-8\") as f:\n",
    "        f.write('[')\n",
    "        channel_comments = get_comments(youtube,channel, None) \n",
    "        next_page_token = channel_comments[\"nextPageToken\"]\n",
    "        #For first call, don't print ','\n",
    "        load_comments(channel_comments, f, point)\n",
    "        point = point + 1\n",
    "        while next_page_token and count < 249:\n",
    "            try:\n",
    "                next_page_token = channel_comments[\"nextPageToken\"]\n",
    "                channel_comments = get_next_comments(youtube, channel, None, next_page_token)\n",
    "                load_comments(channel_comments, f, point)\n",
    "                count = count + 1\n",
    "            except KeyError as e:\n",
    "                print (\"Done\")\n",
    "                break;\n",
    "        f.write(']')\n",
    "     fileNumber = fileNumber + 1\n",
    "print(count)\n",
    "    \n",
    "    "
   ]
  },
  {
   "cell_type": "code",
   "execution_count": null,
   "metadata": {},
   "outputs": [],
   "source": [
    "#Reads comments from all json files \n",
    "def read_comments_from_json(filename):\n",
    "    comments=[]\n",
    "    commentCount = 0\n",
    "    with io.open(filename) as f:\n",
    "        data=json.load(f)\n",
    "        for comment in data:\n",
    "            #Adds only the textDisplay for each comment        \n",
    "            comments.append(comment[\"snippet\"][\"topLevelComment\"][\"snippet\"][\"textDisplay\"])\n",
    "            commentCount = commentCount + 1\n",
    "    print (commentCount)\n",
    "    return comments  "
   ]
  },
  {
   "cell_type": "code",
   "execution_count": 11,
   "metadata": {},
   "outputs": [
    {
     "ename": "NameError",
     "evalue": "name 'read_comments_from_json' is not defined",
     "output_type": "error",
     "traceback": [
      "\u001b[1;31m---------------------------------------------------------------------------\u001b[0m",
      "\u001b[1;31mNameError\u001b[0m                                 Traceback (most recent call last)",
      "\u001b[1;32m<ipython-input-11-c82693f9c127>\u001b[0m in \u001b[0;36m<module>\u001b[1;34m\u001b[0m\n\u001b[0;32m      2\u001b[0m \u001b[1;33m\u001b[0m\u001b[0m\n\u001b[0;32m      3\u001b[0m \u001b[1;31m#Creates list of all comments\u001b[0m\u001b[1;33m\u001b[0m\u001b[1;33m\u001b[0m\u001b[1;33m\u001b[0m\u001b[0m\n\u001b[1;32m----> 4\u001b[1;33m \u001b[0mfortnite_comments\u001b[0m \u001b[1;33m=\u001b[0m \u001b[0mread_comments_from_json\u001b[0m\u001b[1;33m(\u001b[0m\u001b[1;34m'fortniteComments.json'\u001b[0m\u001b[1;33m)\u001b[0m\u001b[1;33m\u001b[0m\u001b[1;33m\u001b[0m\u001b[0m\n\u001b[0m\u001b[0;32m      5\u001b[0m \u001b[1;31m#apex_Comments = read_comments_from_json('apexComments.json')\u001b[0m\u001b[1;33m\u001b[0m\u001b[1;33m\u001b[0m\u001b[1;33m\u001b[0m\u001b[0m\n\u001b[0;32m      6\u001b[0m \u001b[1;31m#cod_comments = read_comments_from_json('CODComments.json')\u001b[0m\u001b[1;33m\u001b[0m\u001b[1;33m\u001b[0m\u001b[1;33m\u001b[0m\u001b[0m\n",
      "\u001b[1;31mNameError\u001b[0m: name 'read_comments_from_json' is not defined"
     ]
    }
   ],
   "source": [
    "import nltk, re, json, io #how to download NLTK, see https://www.nltk.org/data.html \n",
    "\n",
    "#Creates list of all comments\n",
    "fortnite_comments = read_comments_from_json('fortniteComments.json')\n",
    "#apex_Comments = read_comments_from_json('apexComments.json')\n",
    "#cod_comments = read_comments_from_json('CODComments.json')\n",
    "#battlefield_comments = read_comments_from_json('battleFieldComments.json')\n",
    "#fifa_comments = read_comments_from_json('fifaComments.json')\n",
    "#madden_comments = read_comments_from_json('maddenComments.json')"
   ]
  },
  {
   "cell_type": "code",
   "execution_count": 16,
   "metadata": {
    "scrolled": false
   },
   "outputs": [
    {
     "name": "stderr",
     "output_type": "stream",
     "text": [
      "IOPub data rate exceeded.\n",
      "The notebook server will temporarily stop sending output\n",
      "to the client in order to avoid crashing it.\n",
      "To change this limit, set the config variable\n",
      "`--NotebookApp.iopub_data_rate_limit`.\n",
      "\n",
      "Current values:\n",
      "NotebookApp.iopub_data_rate_limit=1000000.0 (bytes/sec)\n",
      "NotebookApp.rate_limit_window=3.0 (secs)\n",
      "\n"
     ]
    }
   ],
   "source": [
    "print(fortnite_comments)"
   ]
  },
  {
   "cell_type": "code",
   "execution_count": 14,
   "metadata": {},
   "outputs": [
    {
     "ename": "NameError",
     "evalue": "name 'apexLegends_comments' is not defined",
     "output_type": "error",
     "traceback": [
      "\u001b[1;31m---------------------------------------------------------------------------\u001b[0m",
      "\u001b[1;31mNameError\u001b[0m                                 Traceback (most recent call last)",
      "\u001b[1;32m<ipython-input-14-b76e71ac9d4e>\u001b[0m in \u001b[0;36m<module>\u001b[1;34m\u001b[0m\n\u001b[1;32m----> 1\u001b[1;33m \u001b[0mprint\u001b[0m\u001b[1;33m(\u001b[0m\u001b[0mapexLegends_comments\u001b[0m\u001b[1;33m)\u001b[0m\u001b[1;33m\u001b[0m\u001b[1;33m\u001b[0m\u001b[0m\n\u001b[0m",
      "\u001b[1;31mNameError\u001b[0m: name 'apexLegends_comments' is not defined"
     ]
    }
   ],
   "source": [
    "print(apexLegends_comments)"
   ]
  },
  {
   "cell_type": "code",
   "execution_count": null,
   "metadata": {},
   "outputs": [],
   "source": [
    "print(rocketLeague_comments)"
   ]
  },
  {
   "cell_type": "code",
   "execution_count": null,
   "metadata": {},
   "outputs": [],
   "source": [
    "print(leagueOfLegends_comments)"
   ]
  }
 ],
 "metadata": {
  "kernelspec": {
   "display_name": "Python 3",
   "language": "python",
   "name": "python3"
  },
  "language_info": {
   "codemirror_mode": {
    "name": "ipython",
    "version": 3
   },
   "file_extension": ".py",
   "mimetype": "text/x-python",
   "name": "python",
   "nbconvert_exporter": "python",
   "pygments_lexer": "ipython3",
   "version": "3.7.1"
  }
 },
 "nbformat": 4,
 "nbformat_minor": 2
}
